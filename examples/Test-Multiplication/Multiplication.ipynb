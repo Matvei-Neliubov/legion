{
 "cells": [
  {
   "cell_type": "code",
   "execution_count": null,
   "metadata": {
    "collapsed": true
   },
   "outputs": [],
   "source": [
    "from legion.metrics import send_metric, Metric\n",
    "from legion.model.model_id import init\n",
    "\n",
    "init('test multiplication')\n",
    "\n",
    "def calculate(x):\n",
    "    return int(x['a']) * int(x['b'])\n",
    "\n",
    "send_metric(Metric.TEST_ACCURACY, 100.0)\n",
    "\n",
    "import legion.io\n",
    "legion.io.export_utyped(lambda x: {\n",
    "                                'result': int(calculate())\n",
    "                            },\n",
    "                        version='1.0'\n",
    "                        )"
   ]
  }
 ],
 "metadata": {
  "kernelspec": {
   "display_name": "Python 2",
   "language": "python",
   "name": "python2"
  },
  "language_info": {
   "codemirror_mode": {
    "name": "ipython",
    "version": 2
   },
   "file_extension": ".py",
   "mimetype": "text/x-python",
   "name": "python",
   "nbconvert_exporter": "python",
   "pygments_lexer": "ipython2",
   "version": "2.7.6"
  }
 },
 "nbformat": 4,
 "nbformat_minor": 0
}
